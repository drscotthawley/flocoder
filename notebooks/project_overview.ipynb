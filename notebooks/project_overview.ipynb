{
 "cells": [
  {
   "cell_type": "markdown",
   "id": "d9c71745-faf4-41ea-a179-999c83896242",
   "metadata": {
    "editable": true,
    "slideshow": {
     "slide_type": "slide"
    },
    "tags": []
   },
   "source": [
    "# This info has moved\n",
    "\n",
    "See Google slides on \"flocoder\" from Hawley's talk at Nat'l U. Singapore, April 28 2025:\n",
    "\n",
    "[https://docs.google.com/presentation/d/1rTUE3qi7P92QIUSeiN3anZmc9ommZWkltziKDBmQ7-M/edit?usp=sharing](https://docs.google.com/presentation/d/1rTUE3qi7P92QIUSeiN3anZmc9ommZWkltziKDBmQ7-M/edit?usp=sharing)"
   ]
  }
 ],
 "metadata": {
  "kernelspec": {
   "display_name": "Python 3 (ipykernel)",
   "language": "python",
   "name": "python3"
  },
  "language_info": {
   "codemirror_mode": {
    "name": "ipython",
    "version": 3
   },
   "file_extension": ".py",
   "mimetype": "text/x-python",
   "name": "python",
   "nbconvert_exporter": "python",
   "pygments_lexer": "ipython3",
   "version": "3.10.12"
  }
 },
 "nbformat": 4,
 "nbformat_minor": 5
}
